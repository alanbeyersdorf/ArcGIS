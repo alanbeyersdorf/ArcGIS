{
 "cells": [
  {
   "cell_type": "code",
   "execution_count": 5,
   "metadata": {},
   "outputs": [],
   "source": [
    "from arcgis.gis import GIS\n",
    "my_gis = GIS()\n",
    "m = my_gis.map()"
   ]
  },
  {
   "cell_type": "code",
   "execution_count": 8,
   "metadata": {},
   "outputs": [],
   "source": [
    "items = my_gis.content.search('Philadelphia')"
   ]
  },
  {
   "cell_type": "code",
   "execution_count": 11,
   "metadata": {},
   "outputs": [
    {
     "data": {
      "text/html": [
       "<div class=\"item_container\" style=\"height: auto; overflow: hidden; border: 1px solid #cfcfcf; border-radius: 2px; background: #f6fafa; line-height: 1.21429em; padding: 10px;\">\n",
       "                    <div class=\"item_left\" style=\"width: 210px; float: left;\">\n",
       "                       <a href='https://www.arcgis.com/home/item.html?id=86f88285788a4c53bd3d5dde6b315dfe' target='_blank'>\n",
       "                        <img src='https://www.arcgis.com/sharing/rest//content/items/86f88285788a4c53bd3d5dde6b315dfe/info/thumbnail/philly_thumb.png' class=\"itemThumbnail\">\n",
       "                       </a>\n",
       "                    </div>\n",
       "\n",
       "                    <div class=\"item_right\"     style=\"float: none; width: auto; overflow: hidden;\">\n",
       "                        <a href='https://www.arcgis.com/home/item.html?id=86f88285788a4c53bd3d5dde6b315dfe' target='_blank'><b>Philadelphia Redevelopment</b>\n",
       "                        </a>\n",
       "                        <br/>Urban planning scenario, fictive redevelopment of a city block in Philadelphia<img src='https://www.arcgis.com/home/js/jsapi/esri/css/images/item_type_icons/websceneglobal16.png' style=\"vertical-align:middle;\">CityEngine Web Scene by CityEngine\n",
       "                        <br/>Last Modified: September 23, 2016\n",
       "                        <br/>81 comments, 50,647 views\n",
       "                    </div>\n",
       "                </div>\n",
       "                "
      ],
      "text/plain": [
       "<Item title:\"Philadelphia Redevelopment\" type:CityEngine Web Scene owner:CityEngine>"
      ]
     },
     "metadata": {},
     "output_type": "display_data"
    },
    {
     "data": {
      "text/html": [
       "<div class=\"item_container\" style=\"height: auto; overflow: hidden; border: 1px solid #cfcfcf; border-radius: 2px; background: #f6fafa; line-height: 1.21429em; padding: 10px;\">\n",
       "                    <div class=\"item_left\" style=\"width: 210px; float: left;\">\n",
       "                       <a href='https://www.arcgis.com/home/item.html?id=3e17e7850ccf44c688970300fa3fa5f0' target='_blank'>\n",
       "                        <img src='https://www.arcgis.com/sharing/rest//content/items/3e17e7850ccf44c688970300fa3fa5f0/info/thumbnail/ago_downloaded.png' class=\"itemThumbnail\">\n",
       "                       </a>\n",
       "                    </div>\n",
       "\n",
       "                    <div class=\"item_right\"     style=\"float: none; width: auto; overflow: hidden;\">\n",
       "                        <a href='https://www.arcgis.com/home/item.html?id=3e17e7850ccf44c688970300fa3fa5f0' target='_blank'><b>Pictometry 3D Scene</b>\n",
       "                        </a>\n",
       "                        <br/>Pictometry 3D Scene with Indianapolis and Philadelphia 3D Scene Layers<img src='https://www.arcgis.com/home/js/jsapi/esri/css/images/item_type_icons/websceneglobal16.png' style=\"vertical-align:middle;\">Web Scene by whitepeterj\n",
       "                        <br/>Last Modified: March 17, 2016\n",
       "                        <br/>4 comments, 31,206 views\n",
       "                    </div>\n",
       "                </div>\n",
       "                "
      ],
      "text/plain": [
       "<Item title:\"Pictometry 3D Scene\" type:Web Scene owner:whitepeterj>"
      ]
     },
     "metadata": {},
     "output_type": "display_data"
    },
    {
     "data": {
      "text/html": [
       "<div class=\"item_container\" style=\"height: auto; overflow: hidden; border: 1px solid #cfcfcf; border-radius: 2px; background: #f6fafa; line-height: 1.21429em; padding: 10px;\">\n",
       "                    <div class=\"item_left\" style=\"width: 210px; float: left;\">\n",
       "                       <a href='https://www.arcgis.com/home/item.html?id=301ad21a65ed44f4aa2ed4508a14f331' target='_blank'>\n",
       "                        <img src='https://www.arcgis.com/sharing/rest//content/items/301ad21a65ed44f4aa2ed4508a14f331/info/thumbnail/philadelphia.jpg' class=\"itemThumbnail\">\n",
       "                       </a>\n",
       "                    </div>\n",
       "\n",
       "                    <div class=\"item_right\"     style=\"float: none; width: auto; overflow: hidden;\">\n",
       "                        <a href='https://www.arcgis.com/home/item.html?id=301ad21a65ed44f4aa2ed4508a14f331' target='_blank'><b>City of Philadelphia</b>\n",
       "                        </a>\n",
       "                        <br/>This map features a detailed basemap for Philadelphia, Pennsylvania, including buildings and landmarks in the City.<img src='https://www.arcgis.com/home/js/jsapi/esri/css/images/item_type_icons/maps16.png' style=\"vertical-align:middle;\">Web Map by user_community\n",
       "                        <br/>Last Modified: June 24, 2014\n",
       "                        <br/>0 comments, 115,470 views\n",
       "                    </div>\n",
       "                </div>\n",
       "                "
      ],
      "text/plain": [
       "<Item title:\"City of Philadelphia\" type:Web Map owner:user_community>"
      ]
     },
     "metadata": {},
     "output_type": "display_data"
    },
    {
     "data": {
      "text/html": [
       "<div class=\"item_container\" style=\"height: auto; overflow: hidden; border: 1px solid #cfcfcf; border-radius: 2px; background: #f6fafa; line-height: 1.21429em; padding: 10px;\">\n",
       "                    <div class=\"item_left\" style=\"width: 210px; float: left;\">\n",
       "                       <a href='https://www.arcgis.com/home/item.html?id=df509c28e9ee445fa572d3d9fc50b5a5' target='_blank'>\n",
       "                        <img src='https://www.arcgis.com/sharing/rest//content/items/df509c28e9ee445fa572d3d9fc50b5a5/info/thumbnail/1923_USA.jpg' class=\"itemThumbnail\">\n",
       "                       </a>\n",
       "                    </div>\n",
       "\n",
       "                    <div class=\"item_right\"     style=\"float: none; width: auto; overflow: hidden;\">\n",
       "                        <a href='https://www.arcgis.com/home/item.html?id=df509c28e9ee445fa572d3d9fc50b5a5' target='_blank'><b>1923 United States Map</b>\n",
       "                        </a>\n",
       "                        <br/>Spectacular detail and artistry come together in this map--the first US map published by National Geographic.<img src='https://www.arcgis.com/home/js/jsapi/esri/css/images/item_type_icons/maps16.png' style=\"vertical-align:middle;\">Web Map by NationalGeographic\n",
       "                        <br/>Last Modified: November 12, 2014\n",
       "                        <br/>0 comments, 6,242 views\n",
       "                    </div>\n",
       "                </div>\n",
       "                "
      ],
      "text/plain": [
       "<Item title:\"1923 United States Map\" type:Web Map owner:NationalGeographic>"
      ]
     },
     "metadata": {},
     "output_type": "display_data"
    },
    {
     "data": {
      "text/html": [
       "<div class=\"item_container\" style=\"height: auto; overflow: hidden; border: 1px solid #cfcfcf; border-radius: 2px; background: #f6fafa; line-height: 1.21429em; padding: 10px;\">\n",
       "                    <div class=\"item_left\" style=\"width: 210px; float: left;\">\n",
       "                       <a href='https://www.arcgis.com/home/item.html?id=6b49c2bcf8414e7d804d50ef2f4cc2b6' target='_blank'>\n",
       "                        <img src='https://www.arcgis.com/sharing/rest//content/items/6b49c2bcf8414e7d804d50ef2f4cc2b6/info/thumbnail/12-7-2016_1-23-46_PM.png' class=\"itemThumbnail\">\n",
       "                       </a>\n",
       "                    </div>\n",
       "\n",
       "                    <div class=\"item_right\"     style=\"float: none; width: auto; overflow: hidden;\">\n",
       "                        <a href='https://www.arcgis.com/home/item.html?id=6b49c2bcf8414e7d804d50ef2f4cc2b6' target='_blank'><b>Urban Observatory Compare App</b>\n",
       "                        </a>\n",
       "                        <br/>The Urban Observatory Compare app<img src='https://www.arcgis.com/home/js/jsapi/esri/css/images/item_type_icons/layers16.png' style=\"vertical-align:middle;\">Web Mapping Application by AtlasPublisher\n",
       "                        <br/>Last Modified: March 21, 2017\n",
       "                        <br/>0 comments, 2,571 views\n",
       "                    </div>\n",
       "                </div>\n",
       "                "
      ],
      "text/plain": [
       "<Item title:\"Urban Observatory Compare App\" type:Web Mapping Application owner:AtlasPublisher>"
      ]
     },
     "metadata": {},
     "output_type": "display_data"
    },
    {
     "data": {
      "text/html": [
       "<div class=\"item_container\" style=\"height: auto; overflow: hidden; border: 1px solid #cfcfcf; border-radius: 2px; background: #f6fafa; line-height: 1.21429em; padding: 10px;\">\n",
       "                    <div class=\"item_left\" style=\"width: 210px; float: left;\">\n",
       "                       <a href='https://www.arcgis.com/home/item.html?id=54a5a70269ba44b48efe1b9f3ffe35cb' target='_blank'>\n",
       "                        <img src='https://www.arcgis.com/sharing/rest//content/items/54a5a70269ba44b48efe1b9f3ffe35cb/info/thumbnail/DefiningDowntown.gif' class=\"itemThumbnail\">\n",
       "                       </a>\n",
       "                    </div>\n",
       "\n",
       "                    <div class=\"item_right\"     style=\"float: none; width: auto; overflow: hidden;\">\n",
       "                        <a href='https://www.arcgis.com/home/item.html?id=54a5a70269ba44b48efe1b9f3ffe35cb' target='_blank'><b>Defining Downtown - Documenting the Live-Work Dynamic of Downtowns</b>\n",
       "                        </a>\n",
       "                        <br/>Examine detailed geographic boundaries along with demographic and economic data for 53 employment nodes in 27 cities.<img src='https://www.arcgis.com/home/js/jsapi/esri/css/images/item_type_icons/layers16.png' style=\"vertical-align:middle;\">Web Mapping Application by CMunro_CenterCityDistrict\n",
       "                        <br/>Last Modified: May 28, 2019\n",
       "                        <br/>0 comments, 9,377 views\n",
       "                    </div>\n",
       "                </div>\n",
       "                "
      ],
      "text/plain": [
       "<Item title:\"Defining Downtown - Documenting the Live-Work Dynamic of Downtowns\" type:Web Mapping Application owner:CMunro_CenterCityDistrict>"
      ]
     },
     "metadata": {},
     "output_type": "display_data"
    },
    {
     "data": {
      "text/html": [
       "<div class=\"item_container\" style=\"height: auto; overflow: hidden; border: 1px solid #cfcfcf; border-radius: 2px; background: #f6fafa; line-height: 1.21429em; padding: 10px;\">\n",
       "                    <div class=\"item_left\" style=\"width: 210px; float: left;\">\n",
       "                       <a href='https://www.arcgis.com/home/item.html?id=4a8fac16cdc140c9bde0c08a1eb60d9b' target='_blank'>\n",
       "                        <img src='https://www.arcgis.com/sharing/rest//content/items/4a8fac16cdc140c9bde0c08a1eb60d9b/info/thumbnail/topo_map_2.jpg' class=\"itemThumbnail\">\n",
       "                       </a>\n",
       "                    </div>\n",
       "\n",
       "                    <div class=\"item_right\"     style=\"float: none; width: auto; overflow: hidden;\">\n",
       "                        <a href='https://www.arcgis.com/home/item.html?id=4a8fac16cdc140c9bde0c08a1eb60d9b' target='_blank'><b>Topographic</b>\n",
       "                        </a>\n",
       "                        <br/>This LPK file references the World Topographic map service which contains data from ESRI, government agencies and the GIS community.<img src='https://www.arcgis.com/home/js/jsapi/esri/css/images/item_type_icons/layers16.png' style=\"vertical-align:middle;\">Layer Package by esri\n",
       "                        <br/>Last Modified: November 05, 2019\n",
       "                        <br/>1 comments, 311,645 views\n",
       "                    </div>\n",
       "                </div>\n",
       "                "
      ],
      "text/plain": [
       "<Item title:\"Topographic\" type:Layer Package owner:esri>"
      ]
     },
     "metadata": {},
     "output_type": "display_data"
    },
    {
     "data": {
      "text/html": [
       "<div class=\"item_container\" style=\"height: auto; overflow: hidden; border: 1px solid #cfcfcf; border-radius: 2px; background: #f6fafa; line-height: 1.21429em; padding: 10px;\">\n",
       "                    <div class=\"item_left\" style=\"width: 210px; float: left;\">\n",
       "                       <a href='https://www.arcgis.com/home/item.html?id=c6b251a7864e41c6a35f0e36aa448d13' target='_blank'>\n",
       "                        <img src='https://www.arcgis.com/sharing/rest//content/items/c6b251a7864e41c6a35f0e36aa448d13/info/thumbnail/nfl_draft.jpeg' class=\"itemThumbnail\">\n",
       "                       </a>\n",
       "                    </div>\n",
       "\n",
       "                    <div class=\"item_right\"     style=\"float: none; width: auto; overflow: hidden;\">\n",
       "                        <a href='https://www.arcgis.com/home/item.html?id=c6b251a7864e41c6a35f0e36aa448d13' target='_blank'><b>The Story of the 2013 NFL Draft</b>\n",
       "                        </a>\n",
       "                        <br/>Following the 2013 NFL Draft - The story of the Picks<img src='https://www.arcgis.com/home/js/jsapi/esri/css/images/item_type_icons/layers16.png' style=\"vertical-align:middle;\">Web Mapping Application by Datastory\n",
       "                        <br/>Last Modified: June 21, 2014\n",
       "                        <br/>0 comments, 237 views\n",
       "                    </div>\n",
       "                </div>\n",
       "                "
      ],
      "text/plain": [
       "<Item title:\"The Story of the 2013 NFL Draft\" type:Web Mapping Application owner:Datastory>"
      ]
     },
     "metadata": {},
     "output_type": "display_data"
    },
    {
     "data": {
      "text/html": [
       "<div class=\"item_container\" style=\"height: auto; overflow: hidden; border: 1px solid #cfcfcf; border-radius: 2px; background: #f6fafa; line-height: 1.21429em; padding: 10px;\">\n",
       "                    <div class=\"item_left\" style=\"width: 210px; float: left;\">\n",
       "                       <a href='https://www.arcgis.com/home/item.html?id=4ec5429872b04ccdae0d3636e14862e7' target='_blank'>\n",
       "                        <img src='https://www.arcgis.com/sharing/rest//content/items/4ec5429872b04ccdae0d3636e14862e7/info/thumbnail/ago_downloaded.png' class=\"itemThumbnail\">\n",
       "                       </a>\n",
       "                    </div>\n",
       "\n",
       "                    <div class=\"item_right\"     style=\"float: none; width: auto; overflow: hidden;\">\n",
       "                        <a href='https://www.arcgis.com/home/item.html?id=4ec5429872b04ccdae0d3636e14862e7' target='_blank'><b>Children in Single-Parent Households</b>\n",
       "                        </a>\n",
       "                        <br/><img src='https://www.arcgis.com/home/js/jsapi/esri/css/images/item_type_icons/layers16.png' style=\"vertical-align:middle;\">Web Mapping Application by duchnej\n",
       "                        <br/>Last Modified: November 09, 2013\n",
       "                        <br/>1 comments, 33 views\n",
       "                    </div>\n",
       "                </div>\n",
       "                "
      ],
      "text/plain": [
       "<Item title:\"Children in Single-Parent Households\" type:Web Mapping Application owner:duchnej>"
      ]
     },
     "metadata": {},
     "output_type": "display_data"
    },
    {
     "data": {
      "text/html": [
       "<div class=\"item_container\" style=\"height: auto; overflow: hidden; border: 1px solid #cfcfcf; border-radius: 2px; background: #f6fafa; line-height: 1.21429em; padding: 10px;\">\n",
       "                    <div class=\"item_left\" style=\"width: 210px; float: left;\">\n",
       "                       <a href='https://www.arcgis.com/home/item.html?id=bee3cb7a4d924713bc03ff6ba7148feb' target='_blank'>\n",
       "                        <img src='https://www.arcgis.com/sharing/rest//content/items/bee3cb7a4d924713bc03ff6ba7148feb/info/thumbnail/Philly1.jpg' class=\"itemThumbnail\">\n",
       "                       </a>\n",
       "                    </div>\n",
       "\n",
       "                    <div class=\"item_right\"     style=\"float: none; width: auto; overflow: hidden;\">\n",
       "                        <a href='https://www.arcgis.com/home/item.html?id=bee3cb7a4d924713bc03ff6ba7148feb' target='_blank'><b>Philadelphia - interiors</b>\n",
       "                        </a>\n",
       "                        <br/>Philadelphia - interiors<img src='https://www.arcgis.com/home/js/jsapi/esri/css/images/item_type_icons/websceneglobal16.png' style=\"vertical-align:middle;\">CityEngine Web Scene by gvanmaren\n",
       "                        <br/>Last Modified: April 04, 2016\n",
       "                        <br/>3 comments, 2,023 views\n",
       "                    </div>\n",
       "                </div>\n",
       "                "
      ],
      "text/plain": [
       "<Item title:\"Philadelphia - interiors\" type:CityEngine Web Scene owner:gvanmaren>"
      ]
     },
     "metadata": {},
     "output_type": "display_data"
    }
   ],
   "source": [
    "for item in items:\n",
    "    display(item)"
   ]
  }
 ],
 "metadata": {
  "kernelspec": {
   "display_name": "Python 3",
   "language": "python",
   "name": "python3"
  },
  "language_info": {
   "codemirror_mode": {
    "name": "ipython",
    "version": 3
   },
   "file_extension": ".py",
   "mimetype": "text/x-python",
   "name": "python",
   "nbconvert_exporter": "python",
   "pygments_lexer": "ipython3",
   "version": "3.8.0"
  }
 },
 "nbformat": 4,
 "nbformat_minor": 4
}
